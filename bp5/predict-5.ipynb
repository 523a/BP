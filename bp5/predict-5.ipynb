{
 "cells": [
  {
   "cell_type": "code",
   "execution_count": null,
   "metadata": {},
   "outputs": [],
   "source": [
    "#!pip3 install torch torchvision torchaudio --extra-index-url https://download.pytorch.org/whl/cu116"
   ]
  },
  {
   "cell_type": "code",
   "execution_count": 1,
   "metadata": {},
   "outputs": [],
   "source": [
    "%matplotlib inline\n",
    "\n",
    "import glob\n",
    "from platform import python_version\n",
    "\n",
    "import matplotlib\n",
    "import numpy as np\n",
    "import pandas as pd\n",
    "import sklearn\n",
    "import torch\n"
   ]
  },
  {
   "cell_type": "code",
   "execution_count": 2,
   "metadata": {},
   "outputs": [
    {
     "name": "stdout",
     "output_type": "stream",
     "text": [
      "python version==3.7.6\n",
      "pandas==1.0.1\n",
      "numpy==1.18.1\n",
      "sklearn==0.22.1\n",
      "torch==1.1.0\n",
      "matplotlib==3.1.2\n"
     ]
    }
   ],
   "source": [
    "print(\"python version==%s\" % python_version())\n",
    "print(\"pandas==%s\" % pd.__version__)\n",
    "print(\"numpy==%s\" % np.__version__)\n",
    "print(\"sklearn==%s\" % sklearn.__version__)\n",
    "print(\"torch==%s\" % torch.__version__)\n",
    "print(\"matplotlib==%s\" % matplotlib.__version__)"
   ]
  },
  {
   "cell_type": "code",
   "execution_count": null,
   "metadata": {},
   "outputs": [],
   "source": [
    "###############################\n",
    "#################################"
   ]
  },
  {
   "cell_type": "markdown",
   "metadata": {},
   "source": [
    "## Загрузка данных"
   ]
  },
  {
   "cell_type": "code",
   "execution_count": null,
   "metadata": {},
   "outputs": [],
   "source": [
    "# # преобразование даты в строку в цикле\n",
    "# from datetime import timedelta, date\n",
    "\n",
    "# def daterange(start_date, end_date):\n",
    "#     for n in range(int ((end_date - start_date).days)):\n",
    "#         yield start_date + timedelta(n)\n",
    "# date_l=[]\n",
    "# start_date = date(2023, 1,30)\n",
    "# end_date = date(2023, 2, 10)\n",
    "# for single_date in daterange(start_date, end_date):\n",
    "#     #print(single_date.strftime(\"%Y%m%d\"))\n",
    "#     date_l.append(single_date.strftime(\"%Y%m%d\"))\n",
    "# print(date_l)"
   ]
  },
  {
   "cell_type": "code",
   "execution_count": null,
   "metadata": {},
   "outputs": [],
   "source": [
    "# df['column_name']. dt.strftime('%Y-%m-%d')"
   ]
  },
  {
   "cell_type": "code",
   "execution_count": 3,
   "metadata": {},
   "outputs": [
    {
     "name": "stdout",
     "output_type": "stream",
     "text": [
      "Beginning file download with requests\n",
      "text/csv\n",
      "ISO-8859-1\n",
      "text/csv\n",
      "ISO-8859-1\n",
      "text/csv\n",
      "ISO-8859-1\n"
     ]
    }
   ],
   "source": [
    "# Загрузка всех файлов с данными\n",
    "import requests \n",
    "print('Beginning file download with requests') \n",
    "date_l=range(20230321,20230324)\n",
    "for file in date_l:\n",
    "    destination = str(file) + '.csv.gz'\n",
    "    url = 'https://s3-eu-west-1.amazonaws.com/public.bitmex.com/data/trade/' + destination\n",
    "    r = requests.get(url) \n",
    "    with open( './DATA/'+destination,'wb') as f: \n",
    "        f.write(r.content) \n",
    "        # Retrieve HTTP meta-data print(r.status_code) \n",
    "        print(r.headers['content-type']) \n",
    "        print(r.encoding)\n"
   ]
  },
  {
   "cell_type": "code",
   "execution_count": 4,
   "metadata": {},
   "outputs": [
    {
     "name": "stdout",
     "output_type": "stream",
     "text": [
      "40\n"
     ]
    },
    {
     "data": {
      "text/plain": [
       "['data\\\\20230212.csv.gz',\n",
       " 'data\\\\20230213.csv.gz',\n",
       " 'data\\\\20230214.csv.gz',\n",
       " 'data\\\\20230215.csv.gz',\n",
       " 'data\\\\20230216.csv.gz',\n",
       " 'data\\\\20230217.csv.gz',\n",
       " 'data\\\\20230218.csv.gz',\n",
       " 'data\\\\20230219.csv.gz',\n",
       " 'data\\\\20230220.csv.gz',\n",
       " 'data\\\\20230221.csv.gz',\n",
       " 'data\\\\20230222.csv.gz',\n",
       " 'data\\\\20230223.csv.gz',\n",
       " 'data\\\\20230224.csv.gz',\n",
       " 'data\\\\20230225.csv.gz',\n",
       " 'data\\\\20230226.csv.gz',\n",
       " 'data\\\\20230227.csv.gz',\n",
       " 'data\\\\20230228.csv.gz',\n",
       " 'data\\\\20230301.csv.gz',\n",
       " 'data\\\\20230302.csv.gz',\n",
       " 'data\\\\20230303.csv.gz',\n",
       " 'data\\\\20230304.csv.gz',\n",
       " 'data\\\\20230305.csv.gz',\n",
       " 'data\\\\20230306.csv.gz',\n",
       " 'data\\\\20230307.csv.gz',\n",
       " 'data\\\\20230308.csv.gz',\n",
       " 'data\\\\20230309.csv.gz',\n",
       " 'data\\\\20230310.csv.gz',\n",
       " 'data\\\\20230311.csv.gz',\n",
       " 'data\\\\20230312.csv.gz',\n",
       " 'data\\\\20230313.csv.gz',\n",
       " 'data\\\\20230314.csv.gz',\n",
       " 'data\\\\20230315.csv.gz',\n",
       " 'data\\\\20230316.csv.gz',\n",
       " 'data\\\\20230317.csv.gz',\n",
       " 'data\\\\20230318.csv.gz',\n",
       " 'data\\\\20230319.csv.gz',\n",
       " 'data\\\\20230320.csv.gz',\n",
       " 'data\\\\20230321.csv.gz',\n",
       " 'data\\\\20230322.csv.gz',\n",
       " 'data\\\\20230323.csv.gz']"
      ]
     },
     "execution_count": 4,
     "metadata": {},
     "output_type": "execute_result"
    }
   ],
   "source": [
    "files = sorted(glob.glob('data/*.csv.gz'))\n",
    "print(len(files))\n",
    "files=files[-1500:]\n",
    "files"
   ]
  },
  {
   "cell_type": "code",
   "execution_count": null,
   "metadata": {},
   "outputs": [],
   "source": [
    "****"
   ]
  },
  {
   "cell_type": "code",
   "execution_count": 5,
   "metadata": {},
   "outputs": [
    {
     "data": {
      "text/plain": [
       "(11365506, 11)"
      ]
     },
     "execution_count": 5,
     "metadata": {},
     "output_type": "execute_result"
    }
   ],
   "source": [
    "df = pd.concat(map(pd.read_csv, files))\n",
    "df.shape"
   ]
  },
  {
   "cell_type": "code",
   "execution_count": 7,
   "metadata": {},
   "outputs": [
    {
     "data": {
      "text/plain": [
       "(4659204, 11)"
      ]
     },
     "execution_count": 7,
     "metadata": {},
     "output_type": "execute_result"
    }
   ],
   "source": [
    "df = df[df.symbol == 'XBTUSD']\n",
    "df.shape"
   ]
  },
  {
   "cell_type": "code",
   "execution_count": 8,
   "metadata": {},
   "outputs": [
    {
     "name": "stderr",
     "output_type": "stream",
     "text": [
      "C:\\Users\\1\\Anaconda3\\lib\\site-packages\\pandas\\core\\generic.py:5303: SettingWithCopyWarning: \n",
      "A value is trying to be set on a copy of a slice from a DataFrame.\n",
      "Try using .loc[row_indexer,col_indexer] = value instead\n",
      "\n",
      "See the caveats in the documentation: https://pandas.pydata.org/pandas-docs/stable/user_guide/indexing.html#returning-a-view-versus-a-copy\n",
      "  self[name] = value\n"
     ]
    }
   ],
   "source": [
    "df.timestamp = pd.to_datetime(df.timestamp.str.replace('D', 'T'))\n",
    "df = df.sort_values('timestamp')"
   ]
  },
  {
   "cell_type": "code",
   "execution_count": 9,
   "metadata": {},
   "outputs": [
    {
     "data": {
      "text/html": [
       "<div>\n",
       "<style scoped>\n",
       "    .dataframe tbody tr th:only-of-type {\n",
       "        vertical-align: middle;\n",
       "    }\n",
       "\n",
       "    .dataframe tbody tr th {\n",
       "        vertical-align: top;\n",
       "    }\n",
       "\n",
       "    .dataframe thead th {\n",
       "        text-align: right;\n",
       "    }\n",
       "</style>\n",
       "<table border=\"1\" class=\"dataframe\">\n",
       "  <thead>\n",
       "    <tr style=\"text-align: right;\">\n",
       "      <th></th>\n",
       "      <th>symbol</th>\n",
       "      <th>side</th>\n",
       "      <th>size</th>\n",
       "      <th>price</th>\n",
       "      <th>tickDirection</th>\n",
       "      <th>trdMatchID</th>\n",
       "      <th>grossValue</th>\n",
       "      <th>homeNotional</th>\n",
       "      <th>foreignNotional</th>\n",
       "      <th>trdType</th>\n",
       "    </tr>\n",
       "    <tr>\n",
       "      <th>timestamp</th>\n",
       "      <th></th>\n",
       "      <th></th>\n",
       "      <th></th>\n",
       "      <th></th>\n",
       "      <th></th>\n",
       "      <th></th>\n",
       "      <th></th>\n",
       "      <th></th>\n",
       "      <th></th>\n",
       "      <th></th>\n",
       "    </tr>\n",
       "  </thead>\n",
       "  <tbody>\n",
       "    <tr>\n",
       "      <th>2023-02-12 00:00:00.478981</th>\n",
       "      <td>XBTUSD</td>\n",
       "      <td>Buy</td>\n",
       "      <td>108200</td>\n",
       "      <td>21846.5</td>\n",
       "      <td>ZeroMinusTick</td>\n",
       "      <td>b4dcebce-d666-665f-7ee3-8ff59ea7775d</td>\n",
       "      <td>495273598</td>\n",
       "      <td>4.952736</td>\n",
       "      <td>108200.0</td>\n",
       "      <td>Regular</td>\n",
       "    </tr>\n",
       "    <tr>\n",
       "      <th>2023-02-12 00:00:01.141403</th>\n",
       "      <td>XBTUSD</td>\n",
       "      <td>Sell</td>\n",
       "      <td>600</td>\n",
       "      <td>21846.0</td>\n",
       "      <td>MinusTick</td>\n",
       "      <td>c09ad5f0-7814-42a4-0160-ec06ef4b75f3</td>\n",
       "      <td>2746500</td>\n",
       "      <td>0.027465</td>\n",
       "      <td>600.0</td>\n",
       "      <td>Regular</td>\n",
       "    </tr>\n",
       "    <tr>\n",
       "      <th>2023-02-12 00:00:07.803155</th>\n",
       "      <td>XBTUSD</td>\n",
       "      <td>Sell</td>\n",
       "      <td>400</td>\n",
       "      <td>21846.0</td>\n",
       "      <td>ZeroMinusTick</td>\n",
       "      <td>f2a0cf4a-4a86-d78e-545f-62b022e7c5c8</td>\n",
       "      <td>1831000</td>\n",
       "      <td>0.018310</td>\n",
       "      <td>400.0</td>\n",
       "      <td>Regular</td>\n",
       "    </tr>\n",
       "    <tr>\n",
       "      <th>2023-02-12 00:00:07.803155</th>\n",
       "      <td>XBTUSD</td>\n",
       "      <td>Sell</td>\n",
       "      <td>5000</td>\n",
       "      <td>21846.0</td>\n",
       "      <td>ZeroMinusTick</td>\n",
       "      <td>cea04c8c-dbd3-6dbc-9a42-d9e750264b92</td>\n",
       "      <td>22887500</td>\n",
       "      <td>0.228875</td>\n",
       "      <td>5000.0</td>\n",
       "      <td>Regular</td>\n",
       "    </tr>\n",
       "    <tr>\n",
       "      <th>2023-02-12 00:00:07.803155</th>\n",
       "      <td>XBTUSD</td>\n",
       "      <td>Sell</td>\n",
       "      <td>100</td>\n",
       "      <td>21846.0</td>\n",
       "      <td>ZeroMinusTick</td>\n",
       "      <td>4beb8cb3-f513-f2b6-307b-8a8e7ba4cd7d</td>\n",
       "      <td>457750</td>\n",
       "      <td>0.004577</td>\n",
       "      <td>100.0</td>\n",
       "      <td>Regular</td>\n",
       "    </tr>\n",
       "    <tr>\n",
       "      <th>...</th>\n",
       "      <td>...</td>\n",
       "      <td>...</td>\n",
       "      <td>...</td>\n",
       "      <td>...</td>\n",
       "      <td>...</td>\n",
       "      <td>...</td>\n",
       "      <td>...</td>\n",
       "      <td>...</td>\n",
       "      <td>...</td>\n",
       "      <td>...</td>\n",
       "    </tr>\n",
       "    <tr>\n",
       "      <th>2023-03-23 23:59:55.543162</th>\n",
       "      <td>XBTUSD</td>\n",
       "      <td>Buy</td>\n",
       "      <td>600</td>\n",
       "      <td>28326.5</td>\n",
       "      <td>PlusTick</td>\n",
       "      <td>65469ae9-dee3-32d5-b5fc-481525b5ccb2</td>\n",
       "      <td>2118156</td>\n",
       "      <td>0.021182</td>\n",
       "      <td>600.0</td>\n",
       "      <td>Regular</td>\n",
       "    </tr>\n",
       "    <tr>\n",
       "      <th>2023-03-23 23:59:55.547796</th>\n",
       "      <td>XBTUSD</td>\n",
       "      <td>Buy</td>\n",
       "      <td>6100</td>\n",
       "      <td>28326.5</td>\n",
       "      <td>ZeroPlusTick</td>\n",
       "      <td>da46b312-2dc8-9cc8-85ef-88128a6ef28a</td>\n",
       "      <td>21534586</td>\n",
       "      <td>0.215346</td>\n",
       "      <td>6100.0</td>\n",
       "      <td>Regular</td>\n",
       "    </tr>\n",
       "    <tr>\n",
       "      <th>2023-03-23 23:59:55.550837</th>\n",
       "      <td>XBTUSD</td>\n",
       "      <td>Buy</td>\n",
       "      <td>800</td>\n",
       "      <td>28326.5</td>\n",
       "      <td>ZeroPlusTick</td>\n",
       "      <td>78ad646a-8e08-be5c-05b0-f225e96193e4</td>\n",
       "      <td>2824208</td>\n",
       "      <td>0.028242</td>\n",
       "      <td>800.0</td>\n",
       "      <td>Regular</td>\n",
       "    </tr>\n",
       "    <tr>\n",
       "      <th>2023-03-23 23:59:58.970035</th>\n",
       "      <td>XBTUSD</td>\n",
       "      <td>Buy</td>\n",
       "      <td>200</td>\n",
       "      <td>28330.0</td>\n",
       "      <td>PlusTick</td>\n",
       "      <td>edbdc87f-106e-3d42-2af9-1ac35a7707cb</td>\n",
       "      <td>705966</td>\n",
       "      <td>0.007060</td>\n",
       "      <td>200.0</td>\n",
       "      <td>Regular</td>\n",
       "    </tr>\n",
       "    <tr>\n",
       "      <th>2023-03-23 23:59:58.970035</th>\n",
       "      <td>XBTUSD</td>\n",
       "      <td>Buy</td>\n",
       "      <td>800</td>\n",
       "      <td>28330.0</td>\n",
       "      <td>ZeroPlusTick</td>\n",
       "      <td>8f2ceda3-7827-bcfe-bd31-9497e74366fb</td>\n",
       "      <td>2823864</td>\n",
       "      <td>0.028239</td>\n",
       "      <td>800.0</td>\n",
       "      <td>Regular</td>\n",
       "    </tr>\n",
       "  </tbody>\n",
       "</table>\n",
       "<p>4659204 rows × 10 columns</p>\n",
       "</div>"
      ],
      "text/plain": [
       "                            symbol  side    size    price  tickDirection  \\\n",
       "timestamp                                                                  \n",
       "2023-02-12 00:00:00.478981  XBTUSD   Buy  108200  21846.5  ZeroMinusTick   \n",
       "2023-02-12 00:00:01.141403  XBTUSD  Sell     600  21846.0      MinusTick   \n",
       "2023-02-12 00:00:07.803155  XBTUSD  Sell     400  21846.0  ZeroMinusTick   \n",
       "2023-02-12 00:00:07.803155  XBTUSD  Sell    5000  21846.0  ZeroMinusTick   \n",
       "2023-02-12 00:00:07.803155  XBTUSD  Sell     100  21846.0  ZeroMinusTick   \n",
       "...                            ...   ...     ...      ...            ...   \n",
       "2023-03-23 23:59:55.543162  XBTUSD   Buy     600  28326.5       PlusTick   \n",
       "2023-03-23 23:59:55.547796  XBTUSD   Buy    6100  28326.5   ZeroPlusTick   \n",
       "2023-03-23 23:59:55.550837  XBTUSD   Buy     800  28326.5   ZeroPlusTick   \n",
       "2023-03-23 23:59:58.970035  XBTUSD   Buy     200  28330.0       PlusTick   \n",
       "2023-03-23 23:59:58.970035  XBTUSD   Buy     800  28330.0   ZeroPlusTick   \n",
       "\n",
       "                                                      trdMatchID  grossValue  \\\n",
       "timestamp                                                                      \n",
       "2023-02-12 00:00:00.478981  b4dcebce-d666-665f-7ee3-8ff59ea7775d   495273598   \n",
       "2023-02-12 00:00:01.141403  c09ad5f0-7814-42a4-0160-ec06ef4b75f3     2746500   \n",
       "2023-02-12 00:00:07.803155  f2a0cf4a-4a86-d78e-545f-62b022e7c5c8     1831000   \n",
       "2023-02-12 00:00:07.803155  cea04c8c-dbd3-6dbc-9a42-d9e750264b92    22887500   \n",
       "2023-02-12 00:00:07.803155  4beb8cb3-f513-f2b6-307b-8a8e7ba4cd7d      457750   \n",
       "...                                                          ...         ...   \n",
       "2023-03-23 23:59:55.543162  65469ae9-dee3-32d5-b5fc-481525b5ccb2     2118156   \n",
       "2023-03-23 23:59:55.547796  da46b312-2dc8-9cc8-85ef-88128a6ef28a    21534586   \n",
       "2023-03-23 23:59:55.550837  78ad646a-8e08-be5c-05b0-f225e96193e4     2824208   \n",
       "2023-03-23 23:59:58.970035  edbdc87f-106e-3d42-2af9-1ac35a7707cb      705966   \n",
       "2023-03-23 23:59:58.970035  8f2ceda3-7827-bcfe-bd31-9497e74366fb     2823864   \n",
       "\n",
       "                            homeNotional  foreignNotional  trdType  \n",
       "timestamp                                                           \n",
       "2023-02-12 00:00:00.478981      4.952736         108200.0  Regular  \n",
       "2023-02-12 00:00:01.141403      0.027465            600.0  Regular  \n",
       "2023-02-12 00:00:07.803155      0.018310            400.0  Regular  \n",
       "2023-02-12 00:00:07.803155      0.228875           5000.0  Regular  \n",
       "2023-02-12 00:00:07.803155      0.004577            100.0  Regular  \n",
       "...                                  ...              ...      ...  \n",
       "2023-03-23 23:59:55.543162      0.021182            600.0  Regular  \n",
       "2023-03-23 23:59:55.547796      0.215346           6100.0  Regular  \n",
       "2023-03-23 23:59:55.550837      0.028242            800.0  Regular  \n",
       "2023-03-23 23:59:58.970035      0.007060            200.0  Regular  \n",
       "2023-03-23 23:59:58.970035      0.028239            800.0  Regular  \n",
       "\n",
       "[4659204 rows x 10 columns]"
      ]
     },
     "execution_count": 9,
     "metadata": {},
     "output_type": "execute_result"
    }
   ],
   "source": [
    "df.set_index('timestamp', inplace=True)\n",
    "df"
   ]
  },
  {
   "cell_type": "code",
   "execution_count": 10,
   "metadata": {},
   "outputs": [
    {
     "name": "stderr",
     "output_type": "stream",
     "text": [
      "C:\\Users\\1\\Anaconda3\\lib\\site-packages\\ipykernel_launcher.py:2: FutureWarning: The pandas.np module is deprecated and will be removed from pandas in a future version. Import numpy directly instead\n",
      "  \n",
      "C:\\Users\\1\\Anaconda3\\lib\\site-packages\\ipykernel_launcher.py:2: RuntimeWarning: invalid value encountered in double_scalars\n",
      "  \n"
     ]
    },
    {
     "data": {
      "text/plain": [
       "(57600,)"
      ]
     },
     "execution_count": 10,
     "metadata": {},
     "output_type": "execute_result"
    }
   ],
   "source": [
    "df_vwap = df.groupby(pd.Grouper(freq=\"1Min\")).apply(\n",
    "    lambda row: pd.np.sum(row.price * row.foreignNotional) / pd.np.sum(row.foreignNotional))\n",
    "\n",
    "df_vwap.shape"
   ]
  },
  {
   "cell_type": "code",
   "execution_count": 11,
   "metadata": {},
   "outputs": [],
   "source": [
    "# Мое исправление\n",
    "df_vwap = df_vwap.fillna(0)\n",
    "for i in range(1, len(df_vwap)):\n",
    "    #print(i)\n",
    "    #print(df_vwap[i-1])\n",
    "    if df_vwap[i]==0:\n",
    "        df_vwap[i]=df_vwap[i-1]\n",
    "    \n",
    "   \n",
    "# #df_vwap = df_vwap.fillna(df_vwap[-1])\n",
    "# #df_vwap[1]\n",
    "# # for i in range(1, len(df_vwap)):\n",
    "# #     print(df_vwap[i-1])"
   ]
  },
  {
   "cell_type": "code",
   "execution_count": 12,
   "metadata": {},
   "outputs": [],
   "source": [
    "#С0храняем последовательность\n",
    "df_vwap.to_csv('df_vwap_0323.csv')"
   ]
  },
  {
   "cell_type": "code",
   "execution_count": null,
   "metadata": {},
   "outputs": [],
   "source": []
  },
  {
   "cell_type": "code",
   "execution_count": null,
   "metadata": {},
   "outputs": [],
   "source": []
  },
  {
   "cell_type": "code",
   "execution_count": 14,
   "metadata": {},
   "outputs": [
    {
     "name": "stdout",
     "output_type": "stream",
     "text": [
      "<class 'pandas.core.frame.DataFrame'>\n",
      "<class 'pandas.core.series.Series'>\n"
     ]
    },
    {
     "data": {
      "text/plain": [
       "3956366"
      ]
     },
     "execution_count": 14,
     "metadata": {},
     "output_type": "execute_result"
    }
   ],
   "source": [
    "df_vwap = pd.read_csv('df_vwap0211.csv', parse_dates=[\"timestamp\"])\n",
    "df_vwap1 = pd.read_csv('df_vwap_0323.csv', parse_dates=[\"timestamp\"])\n",
    "df_vwap=df_vwap.append(df_vwap1)\n",
    "df_vwap.set_index('timestamp', inplace=True)\n",
    "print(type(df_vwap))\n",
    "df_vwap = df_vwap.squeeze()\n",
    "print(type(df_vwap))\n",
    "len(df_vwap)"
   ]
  },
  {
   "cell_type": "code",
   "execution_count": 15,
   "metadata": {},
   "outputs": [],
   "source": [
    "#Сохраняем последовательность\n",
    "df_vwap.to_csv('df_vwap0323.csv')"
   ]
  },
  {
   "cell_type": "code",
   "execution_count": null,
   "metadata": {},
   "outputs": [],
   "source": [
    "#################################################\n",
    "##################################################"
   ]
  },
  {
   "cell_type": "code",
   "execution_count": 22,
   "metadata": {},
   "outputs": [],
   "source": [
    "#Загрузка основного массива\n",
    "df_vwap = pd.read_csv('df_vwap0323.csv', parse_dates=[\"timestamp\"])\n",
    "df_vwap.set_index('timestamp', inplace=True)\n",
    "df_vwap = df_vwap.squeeze()"
   ]
  },
  {
   "cell_type": "code",
   "execution_count": null,
   "metadata": {},
   "outputs": [],
   "source": [
    "#Загрузка Прогнозного массива\n",
    "df_vwap1 = pd.read_csv('df_vwap_0323.csv', parse_dates=[\"timestamp\"])\n",
    "df_vwap1.set_index('timestamp', inplace=True)\n",
    "df_vwap1 = df_vwap1.squeeze()"
   ]
  },
  {
   "cell_type": "code",
   "execution_count": 23,
   "metadata": {
    "scrolled": true
   },
   "outputs": [
    {
     "data": {
      "text/plain": [
       "timestamp\n",
       "2015-09-25 12:35:00      239.990000\n",
       "2015-09-25 12:36:00      239.990000\n",
       "2015-09-25 12:37:00      237.430000\n",
       "2015-09-25 12:38:00      237.400001\n",
       "2015-09-25 12:39:00      237.400001\n",
       "                           ...     \n",
       "2023-03-23 23:55:00    28368.648452\n",
       "2023-03-23 23:56:00    28345.503415\n",
       "2023-03-23 23:57:00    28341.653833\n",
       "2023-03-23 23:58:00    28339.960674\n",
       "2023-03-23 23:59:00    28329.670925\n",
       "Name: 0, Length: 3956365, dtype: float64"
      ]
     },
     "execution_count": 23,
     "metadata": {},
     "output_type": "execute_result"
    }
   ],
   "source": [
    "df_vwap"
   ]
  },
  {
   "cell_type": "code",
   "execution_count": 26,
   "metadata": {},
   "outputs": [],
   "source": [
    "df_vwap=df_vwap[::5]"
   ]
  },
  {
   "cell_type": "code",
   "execution_count": 27,
   "metadata": {},
   "outputs": [
    {
     "data": {
      "text/plain": [
       "timestamp\n",
       "2015-09-25 12:35:00      239.990000\n",
       "2015-09-25 12:40:00      237.400001\n",
       "2015-09-25 12:45:00      237.460000\n",
       "2015-09-25 12:50:00      237.382513\n",
       "2015-09-25 12:55:00      237.382513\n",
       "                           ...     \n",
       "2023-03-23 23:35:00    28414.467966\n",
       "2023-03-23 23:40:00    28380.661157\n",
       "2023-03-23 23:45:00    28317.829277\n",
       "2023-03-23 23:50:00    28340.813953\n",
       "2023-03-23 23:55:00    28368.648452\n",
       "Name: 0, Length: 791273, dtype: float64"
      ]
     },
     "execution_count": 27,
     "metadata": {},
     "output_type": "execute_result"
    }
   ],
   "source": [
    "df_vwap"
   ]
  },
  {
   "cell_type": "code",
   "execution_count": 28,
   "metadata": {
    "scrolled": true
   },
   "outputs": [
    {
     "data": {
      "text/plain": [
       "<matplotlib.lines.Line2D at 0x2513c3ace88>"
      ]
     },
     "execution_count": 28,
     "metadata": {},
     "output_type": "execute_result"
    },
    {
     "data": {
      "image/png": "[encoded data removed]",
      "text/plain": [
       "<Figure size 1008x504 with 1 Axes>"
      ]
     },
     "metadata": {
      "needs_background": "light"
     },
     "output_type": "display_data"
    }
   ],
   "source": [
    "ax = df_vwap.plot(figsize=(14, 7))\n",
    "ax.axvline(\"2017-03-01\", linestyle=\"--\", c=\"black\")\n",
    "ax.axvline(\"2022-09-01\", linestyle=\"--\", c=\"black\")\n",
    "ax.axvline(\"2022-12-01\", linestyle=\"--\", c=\"black\")"
   ]
  },
  {
   "cell_type": "code",
   "execution_count": 29,
   "metadata": {},
   "outputs": [
    {
     "data": {
      "text/plain": [
       "(791273, 1)"
      ]
     },
     "execution_count": 29,
     "metadata": {},
     "output_type": "execute_result"
    }
   ],
   "source": [
    "df_train =df_vwap[(df_vwap.index >= \"2015-02-06\") & (df_vwap.index < \"2023-03-24\")].to_frame(name=\"vwap\")\n",
    "df_train.shape"
   ]
  },
  {
   "cell_type": "code",
   "execution_count": 31,
   "metadata": {},
   "outputs": [
    {
     "data": {
      "text/plain": [
       "(16992, 1)"
      ]
     },
     "execution_count": 31,
     "metadata": {},
     "output_type": "execute_result"
    }
   ],
   "source": [
    "df_val = df_vwap[(df_vwap.index >= \"2023-01-01\") & (df_vwap.index < \"2023-03-01\")].to_frame(name=\"vwap\")\n",
    "df_val.shape"
   ]
  },
  {
   "cell_type": "code",
   "execution_count": 35,
   "metadata": {},
   "outputs": [
    {
     "data": {
      "text/plain": [
       "(6624, 1)"
      ]
     },
     "execution_count": 35,
     "metadata": {},
     "output_type": "execute_result"
    }
   ],
   "source": [
    "#df_test =df_vwap.to_frame(name='vwap') \n",
    "df_test=df_vwap[df_vwap.index >= \"2023-03-01\"].to_frame(name='vwap')\n",
    "df_test.shape"
   ]
  },
  {
   "cell_type": "code",
   "execution_count": null,
   "metadata": {},
   "outputs": [],
   "source": [
    "df_test\n",
    "\n"
   ]
  },
  {
   "cell_type": "code",
   "execution_count": null,
   "metadata": {},
   "outputs": [],
   "source": [
    "# df_vwap1 = pd.read_csv('df_vwap10_tek.csv', parse_dates=[\"timestamp\"])\n",
    "# df_vwap1.set_index('timestamp', inplace=True)\n",
    "# df_vwap1 = df_vwap1.squeeze()\n",
    "# df_test1=df_vwap1.to_frame(name='vwap')                     \n",
    "# df_test=df_test.append(df_test1)\n",
    "# df_test.shape"
   ]
  },
  {
   "cell_type": "code",
   "execution_count": null,
   "metadata": {},
   "outputs": [],
   "source": [
    "#df_test\n"
   ]
  },
  {
   "cell_type": "code",
   "execution_count": 36,
   "metadata": {},
   "outputs": [],
   "source": [
    "#преобразование данных\n",
    "from sklearn.preprocessing import StandardScaler\n",
    "\n",
    "scaler = StandardScaler()\n",
    "train_arr = scaler.fit_transform(df_train)\n",
    "val_arr = scaler.transform(df_val)\n",
    "test_arr = scaler.transform(df_test)"
   ]
  },
  {
   "cell_type": "code",
   "execution_count": 37,
   "metadata": {},
   "outputs": [],
   "source": [
    "def transform_data(arr, seq_len):\n",
    "    x, y = [], []\n",
    "    for i in range(len(arr) - seq_len):\n",
    "        x_i = arr[i : i + seq_len]\n",
    "        y_i = arr[i + 1 : i + seq_len + 1]\n",
    "        x.append(x_i)\n",
    "        y.append(y_i)\n",
    "    x_arr = np.array(x).reshape(-1, seq_len)\n",
    "    y_arr = np.array(y).reshape(-1, seq_len)\n",
    "    x_var = Variable(torch.from_numpy(x_arr).float())\n",
    "    y_var = Variable(torch.from_numpy(y_arr).float())\n",
    "    return x_var, y_var"
   ]
  },
  {
   "cell_type": "code",
   "execution_count": 38,
   "metadata": {},
   "outputs": [],
   "source": [
    "from torch.autograd import Variable\n",
    "\n",
    "seq_len = 100\n",
    "\n",
    "x_train, y_train = transform_data(train_arr, seq_len)\n",
    "x_val, y_val = transform_data(val_arr, seq_len)\n",
    "x_test, y_test = transform_data(test_arr, seq_len)"
   ]
  },
  {
   "cell_type": "code",
   "execution_count": 39,
   "metadata": {},
   "outputs": [],
   "source": [
    "def plot_sequence(axes, i, x_train, y_train):\n",
    "    axes[i].set_title(\"%d. Sequence\" % (i + 1))\n",
    "    axes[i].set_xlabel(\"Time Bars\")\n",
    "    axes[i].set_ylabel(\"Scaled VWAP\")\n",
    "    axes[i].plot(range(seq_len), x_train[i].cpu().numpy(), color=\"r\", label=\"Feature\")\n",
    "    axes[i].plot(range(1, seq_len + 1), y_train[i].cpu().numpy(), color=\"b\", label=\"Target\")\n",
    "    axes[i].legend()"
   ]
  },
  {
   "cell_type": "code",
   "execution_count": 40,
   "metadata": {},
   "outputs": [
    {
     "data": {
      "image/png": "[encoded data removed]",
      "text/plain": [
       "<Figure size 1008x504 with 2 Axes>"
      ]
     },
     "metadata": {
      "needs_background": "light"
     },
     "output_type": "display_data"
    }
   ],
   "source": [
    "import matplotlib.pyplot as plt\n",
    "fig, axes = plt.subplots(nrows=1, ncols=2, figsize=(14, 7))\n",
    "plot_sequence(axes, 0, x_train, y_train)\n",
    "plot_sequence(axes, 1, x_train, y_train)\n",
    "#plot_sequence(axes, 2, x_train, y_train)\n",
    "#plot_sequence(axes, 3, x_train, y_train)\n",
    "#plot_sequence(axes, 4, x_train, y_train)"
   ]
  },
  {
   "cell_type": "code",
   "execution_count": 41,
   "metadata": {},
   "outputs": [],
   "source": [
    "import torch.nn as nn\n",
    "import torch.optim as optim\n",
    "\n",
    "\n",
    "class Model(nn.Module):\n",
    "    def __init__(self, input_size, hidden_size, output_size):\n",
    "        super(Model, self).__init__()\n",
    "        self.input_size = input_size\n",
    "        self.hidden_size = hidden_size\n",
    "        self.output_size = output_size\n",
    "        self.lstm = nn.LSTMCell(self.input_size, self.hidden_size)\n",
    "        self.linear = nn.Linear(self.hidden_size, self.output_size)\n",
    "\n",
    "    def forward(self, input, future=0, y=None):\n",
    "        outputs = []\n",
    "\n",
    "        # сбросить состояние LSTM\n",
    "        # состояние сохраняется до конца последовательности\n",
    "        h_t = torch.zeros(input.size(0), self.hidden_size, dtype=torch.float32)\n",
    "        c_t = torch.zeros(input.size(0), self.hidden_size, dtype=torch.float32)\n",
    "\n",
    "        for i, input_t in enumerate(input.chunk(input.size(1), dim=1)):\n",
    "            h_t, c_t = self.lstm(input_t, (h_t, c_t))\n",
    "            output = self.linear(h_t)\n",
    "            outputs += [output]\n",
    "\n",
    "        for i in range(future):\n",
    "            if y is not None and random.random() > 0.5:\n",
    "                output = y[:, [i]]  # teacher forcing\n",
    "            h_t, c_t = self.lstm(output, (h_t, c_t))\n",
    "            output = self.linear(h_t)\n",
    "            outputs += [output]\n",
    "        outputs = torch.stack(outputs, 1).squeeze(2)\n",
    "        return outputs"
   ]
  },
  {
   "cell_type": "code",
   "execution_count": 42,
   "metadata": {},
   "outputs": [],
   "source": [
    "import time\n",
    "import random\n",
    "\n",
    "\n",
    "class Optimization:\n",
    "    \"\"\" A helper class to train, test and diagnose the LSTM\"\"\"\n",
    "\n",
    "    def __init__(self, model, loss_fn, optimizer, scheduler):\n",
    "        self.model = model\n",
    "        self.loss_fn = loss_fn\n",
    "        self.optimizer = optimizer\n",
    "        self.scheduler = scheduler\n",
    "        self.train_losses = []\n",
    "        self.val_losses = []\n",
    "        self.futures = []\n",
    "\n",
    "    @staticmethod\n",
    "    def generate_batch_data(x, y, batch_size):\n",
    "        for batch, i in enumerate(range(0, len(x) - batch_size, batch_size)):\n",
    "            x_batch = x[i : i + batch_size]\n",
    "            y_batch = y[i : i + batch_size]\n",
    "            yield x_batch, y_batch, batch\n",
    "\n",
    "    def train(\n",
    "        self,\n",
    "        x_train,\n",
    "        y_train,\n",
    "        x_val=None,\n",
    "        y_val=None,\n",
    "        batch_size=100,\n",
    "        #*******************\n",
    "        n_epochs=1,\n",
    "        do_teacher_forcing=None,\n",
    "    ):\n",
    "        seq_len = x_train.shape[1]\n",
    "        for epoch in range(n_epochs):\n",
    "            start_time = time.time()\n",
    "            self.futures = []\n",
    "\n",
    "            train_loss = 0\n",
    "            for x_batch, y_batch, batch in self.generate_batch_data(x_train, y_train, batch_size):\n",
    "                y_pred = self._predict(x_batch, y_batch, seq_len, do_teacher_forcing)\n",
    "                self.optimizer.zero_grad()\n",
    "                loss = self.loss_fn(y_pred, y_batch)\n",
    "                loss.backward()\n",
    "                self.optimizer.step()\n",
    "                train_loss += loss.item()\n",
    "            self.scheduler.step()\n",
    "            train_loss /= batch\n",
    "            self.train_losses.append(train_loss)\n",
    "\n",
    "            self._validation(x_val, y_val, batch_size)\n",
    "\n",
    "            elapsed = time.time() - start_time\n",
    "            print(\n",
    "                \"Epoch %d Train loss: %.2f. Validation loss: %.2f. Avg future: %.2f. Elapsed time: %.2fs.\"\n",
    "                % (epoch + 1, train_loss, self.val_losses[-1], np.average(self.futures), elapsed)\n",
    "            )\n",
    "\n",
    "    def _predict(self, x_batch, y_batch, seq_len, do_teacher_forcing):\n",
    "        if do_teacher_forcing:\n",
    "            future = random.randint(1, int(seq_len) / 2)\n",
    "            limit = x_batch.size(1) - future\n",
    "            y_pred = self.model(x_batch[:, :limit], future=future, y=y_batch[:, limit:])\n",
    "        else:\n",
    "            future = 0\n",
    "            y_pred = self.model(x_batch)\n",
    "        self.futures.append(future)\n",
    "        return y_pred\n",
    "\n",
    "    def _validation(self, x_val, y_val, batch_size):\n",
    "        if x_val is None or y_val is None:\n",
    "            return\n",
    "        with torch.no_grad():\n",
    "            val_loss = 0\n",
    "            for x_batch, y_batch, batch in self.generate_batch_data(x_val, y_val, batch_size):\n",
    "                y_pred = self.model(x_batch)\n",
    "                loss = self.loss_fn(y_pred, y_batch)\n",
    "                val_loss += loss.item()\n",
    "            val_loss /= batch\n",
    "            self.val_losses.append(val_loss)\n",
    "\n",
    "    def evaluate(self, x_test, y_test, batch_size, future=1):\n",
    "        with torch.no_grad():\n",
    "            test_loss = 0\n",
    "            actual, predicted = [], []\n",
    "            for x_batch, y_batch, batch in self.generate_batch_data(x_test, y_test, batch_size):\n",
    "                y_pred = self.model(x_batch, future=future)\n",
    "                y_pred = (\n",
    "                    y_pred[:, -len(y_batch) :] if y_pred.shape[1] > y_batch.shape[1] else y_pred\n",
    "                )\n",
    "                loss = self.loss_fn(y_pred, y_batch)\n",
    "                test_loss += loss.item()\n",
    "                actual += torch.squeeze(y_batch[:, -1]).data.cpu().numpy().tolist()\n",
    "                predicted += torch.squeeze(y_pred[:, -1]).data.cpu().numpy().tolist()\n",
    "            test_loss /= batch\n",
    "            return actual, predicted, test_loss\n",
    "\n",
    "    def plot_losses(self):\n",
    "        plt.plot(self.train_losses, label=\"Training loss\")\n",
    "        plt.plot(self.val_losses, label=\"Validation loss\")\n",
    "        plt.legend()\n",
    "        plt.title(\"Losses\")"
   ]
  },
  {
   "cell_type": "code",
   "execution_count": 43,
   "metadata": {},
   "outputs": [],
   "source": [
    "def generate_sequence(scaler, model, x_sample, future=1000):\n",
    "    \"\"\" Generate future values for x_sample with the model \"\"\"\n",
    "    y_pred_tensor = model(x_sample, future=future)\n",
    "    y_pred = y_pred_tensor.cpu().tolist()\n",
    "    y_pred = scaler.inverse_transform(y_pred)\n",
    "    return y_pred"
   ]
  },
  {
   "cell_type": "code",
   "execution_count": 44,
   "metadata": {},
   "outputs": [],
   "source": [
    "def to_dataframe(actual, predicted):\n",
    "    return pd.DataFrame({\"actual\": actual, \"predicted\": predicted})\n",
    "\n",
    "\n",
    "def inverse_transform(scalar, df, columns):\n",
    "    for col in columns:\n",
    "        df[col] = scaler.inverse_transform(df[col])\n",
    "    return df"
   ]
  },
  {
   "cell_type": "code",
   "execution_count": 45,
   "metadata": {},
   "outputs": [],
   "source": [
    "model_1 = Model(input_size=1, hidden_size=21, output_size=1)\n",
    "loss_fn_1 = nn.MSELoss()\n",
    "optimizer_1 = optim.Adam(model_1.parameters(), lr=1e-3)\n",
    "scheduler_1 = optim.lr_scheduler.StepLR(optimizer_1, step_size=5, gamma=0.1)\n",
    "optimization_1 = Optimization(model_1, loss_fn_1, optimizer_1, scheduler_1)"
   ]
  },
  {
   "cell_type": "code",
   "execution_count": 46,
   "metadata": {},
   "outputs": [],
   "source": [
    "# dev = torch.device(\"cuda\") if torch.cuda.is_available() else torch.device(\"cpu\")\n",
    "# model_1.to(dev) # is on cuda (all parameters)\n",
    "# dev"
   ]
  },
  {
   "cell_type": "code",
   "execution_count": 48,
   "metadata": {},
   "outputs": [],
   "source": [
    "# PATH = './model10_0902.pth'\n",
    "# #model_1 = Model(input_size=1, hidden_size=21, output_size=1)\n",
    "# model_1.load_state_dict(torch.load(PATH))"
   ]
  },
  {
   "cell_type": "code",
   "execution_count": null,
   "metadata": {},
   "outputs": [],
   "source": [
    "optimization_1.train(x_train, y_train, x_val, y_val, do_teacher_forcing=False)"
   ]
  },
  {
   "cell_type": "code",
   "execution_count": null,
   "metadata": {},
   "outputs": [],
   "source": []
  },
  {
   "cell_type": "code",
   "execution_count": null,
   "metadata": {},
   "outputs": [],
   "source": [
    "optimization_1.plot_losses()"
   ]
  },
  {
   "cell_type": "code",
   "execution_count": null,
   "metadata": {},
   "outputs": [],
   "source": [
    "actual_1, predicted_1, test_loss_1 = optimization_1.evaluate(x_test, y_test, future=5, batch_size=100)\n",
    "df_result_1 = to_dataframe(actual_1, predicted_1) \n",
    "df_result_1 = inverse_transform(scaler, df_result_1, ['actual', 'predicted'])\n",
    "df_result_1.plot(figsize=(14, 7))\n",
    "print(\"Test loss %.4f\" % test_loss_1)"
   ]
  },
  {
   "cell_type": "code",
   "execution_count": null,
   "metadata": {},
   "outputs": [],
   "source": [
    "df_result_1\n",
    "df_result_1.iloc[:].to_csv('df_result_1000.csv')"
   ]
  },
  {
   "cell_type": "code",
   "execution_count": null,
   "metadata": {},
   "outputs": [],
   "source": [
    "df_result_1"
   ]
  },
  {
   "cell_type": "code",
   "execution_count": null,
   "metadata": {},
   "outputs": [],
   "source": [
    "actual_1, predicted_1, test_loss_1 = optimization_1.evaluate(x_train, y_train, future=5, batch_size=100)\n",
    "df_result_1 = to_dataframe(actual_1, predicted_1) \n",
    "df_result_1 = inverse_transform(scaler, df_result_1, ['actual', 'predicted'])\n",
    "df_result_1.plot(figsize=(14, 7))\n",
    "print(\"Test loss %.4f\" % test_loss_1)"
   ]
  },
  {
   "cell_type": "code",
   "execution_count": null,
   "metadata": {},
   "outputs": [],
   "source": [
    "fig, axes = plt.subplots(nrows=1, ncols=2, figsize=(14, 7))\n",
    "df_result_1.iloc[0:30].plot(ax=axes[0], figsize=(14, 7))\n",
    "df_result_1.iloc[-10:].plot(ax=axes[1], figsize=(14, 7))\n",
    "axes[1].grid(1)"
   ]
  },
  {
   "cell_type": "code",
   "execution_count": null,
   "metadata": {},
   "outputs": [],
   "source": [
    "# PATH = './model10_0902.pth'\n",
    "# torch.save(model_1.state_dict(), PATH)"
   ]
  },
  {
   "cell_type": "code",
   "execution_count": null,
   "metadata": {},
   "outputs": [],
   "source": [
    "df_result_1\n",
    "\n",
    "#df_vwap.to_csv('df_result_1.csv')\n",
    "df_result_1.iloc[-140:].to_csv('df_result_140.csv')"
   ]
  },
  {
   "cell_type": "markdown",
   "metadata": {},
   "source": [
    "## реальное прогнозирование\n",
    "подготовка последовательности"
   ]
  },
  {
   "cell_type": "code",
   "execution_count": null,
   "metadata": {},
   "outputs": [],
   "source": [
    "df_test = df_vwap[df_vwap.index >= \"2023-01-31\"].to_frame(name='vwap')\n",
    "df_test.shape"
   ]
  },
  {
   "cell_type": "code",
   "execution_count": null,
   "metadata": {},
   "outputs": [],
   "source": [
    "x_sample = x_test[0].reshape(1, -1)\n",
    "y_sample = df_test.vwap[:1100]\n",
    " \n",
    "y_pred1 = generate_sequence(scaler, optimization_1.model, x_sample)"
   ]
  },
  {
   "cell_type": "code",
   "execution_count": null,
   "metadata": {},
   "outputs": [],
   "source": [
    "plt.figure(figsize=(14, 7))\n",
    "plt.plot(range(100), y_pred1[0][:100], color=\"blue\", lw=2, label=\"Predicted VWAP\")\n",
    "plt.plot(range(100, 1100), y_pred1[0][100:], \"--\", color=\"blue\", lw=2, label=\"Generated VWAP\")\n",
    "plt.plot(range(0, 1100), y_sample, color=\"red\", label=\"Actual VWAP\")\n",
    "plt.legend()"
   ]
  },
  {
   "cell_type": "code",
   "execution_count": null,
   "metadata": {},
   "outputs": [],
   "source": [
    "model_2 = Model(input_size=1, hidden_size=21, output_size=1)\n",
    "loss_fn_2 = nn.MSELoss()\n",
    "optimizer_2 = optim.Adam(model_2.parameters(), lr=1e-3)\n",
    "scheduler_2 = optim.lr_scheduler.StepLR(optimizer_2, step_size=5, gamma=0.1)\n",
    "optimization_2 = Optimization(model_2, loss_fn_2,  optimizer_2, scheduler_2)"
   ]
  },
  {
   "cell_type": "code",
   "execution_count": null,
   "metadata": {},
   "outputs": [],
   "source": []
  },
  {
   "cell_type": "code",
   "execution_count": null,
   "metadata": {},
   "outputs": [],
   "source": []
  },
  {
   "cell_type": "code",
   "execution_count": null,
   "metadata": {
    "scrolled": true
   },
   "outputs": [],
   "source": [
    "#optimization_2.train(x_train, y_train, x_val, y_val, do_teacher_forcing=True)"
   ]
  },
  {
   "cell_type": "code",
   "execution_count": null,
   "metadata": {},
   "outputs": [],
   "source": [
    "optimization_2.plot_losses()"
   ]
  },
  {
   "cell_type": "code",
   "execution_count": null,
   "metadata": {},
   "outputs": [],
   "source": [
    "actual_2, predicted_2, test_loss_2 = optimization_2.evaluate(x_test, y_test, batch_size=100, future=5)\n",
    "df_result_2 = to_dataframe(actual_2, predicted_2)\n",
    "df_result_2 = inverse_transform(scaler, df_result_2, [\"actual\", \"predicted\"])\n",
    "df_result_2.plot(figsize=(14, 7))\n",
    "print(\"Test loss %.4f\" % test_loss_2)"
   ]
  },
  {
   "cell_type": "code",
   "execution_count": null,
   "metadata": {},
   "outputs": [],
   "source": [
    "PATH = './model_0302.pth'\n",
    "torch.save(model_2.state_dict(), PATH)"
   ]
  },
  {
   "cell_type": "code",
   "execution_count": null,
   "metadata": {},
   "outputs": [],
   "source": [
    "plt.figure(figsize=(14, 7))\n",
    "plt.plot(range(100), y_pred1[0][:100], color=\"blue\", lw=2, label=\"Predicted VWAP\")\n",
    "plt.plot(range(100, 1100), y_pred1[0][100:], \"--\", color=\"blue\", lw=2, label=\"Generated VWAP\")\n",
    "plt.plot(range(0, 1100), y_sample, color=\"red\", label=\"Actual VWAP\")\n",
    "plt.legend()"
   ]
  },
  {
   "cell_type": "markdown",
   "metadata": {},
   "source": [
    "### Обучение на ГПУ"
   ]
  },
  {
   "cell_type": "markdown",
   "metadata": {},
   "source": [
    "### --------------------------------------------------------"
   ]
  },
  {
   "cell_type": "code",
   "execution_count": null,
   "metadata": {},
   "outputs": [],
   "source": [
    "***"
   ]
  },
  {
   "cell_type": "code",
   "execution_count": null,
   "metadata": {},
   "outputs": [],
   "source": [
    "device = torch.device('cuda' if torch.cuda.is_available() else 'cpu')\n",
    "print('Using device:', device)\n",
    "print()"
   ]
  },
  {
   "cell_type": "code",
   "execution_count": null,
   "metadata": {},
   "outputs": [],
   "source": [
    "model_1.to(device)"
   ]
  },
  {
   "cell_type": "code",
   "execution_count": null,
   "metadata": {},
   "outputs": [],
   "source": [
    "x_train, y_train = data[0].to(device), data[1].to(device)"
   ]
  },
  {
   "cell_type": "code",
   "execution_count": null,
   "metadata": {},
   "outputs": [],
   "source": [
    "import torch.optim as optim\n",
    "\n",
    "criterion = nn.CrossEntropyLoss()\n",
    "optimizer = optim.SGD(net.parameters(), lr=0.001, momentum=0.9)\n",
    "for epoch in range(2):  # loop over the dataset multiple times\n",
    "\n",
    "    running_loss = 0.0\n",
    "    for i, data in enumerate(trainloader, 0):\n",
    "        # get the inputs; data is a list of [inputs, labels]\n",
    "    x_train, y_train = data[0].to(device), data[1].to(device)\n",
    "\n",
    "        # zero the parameter gradients\n",
    "        optimizer.zero_grad()\n",
    "\n",
    "        # forward + backward + optimize\n",
    "        outputs = net(inputs)\n",
    "        loss = criterion(outputs, labels)\n",
    "        loss.backward()\n",
    "        optimizer.step()\n",
    "\n",
    "        # print statistics\n",
    "        running_loss += loss.item()\n",
    "        if i % 2000 == 1999:    # print every 2000 mini-batches\n",
    "            print('[%d, %5d] loss: %.3f' %\n",
    "                  (epoch + 1, i + 1, running_loss / 2000))\n",
    "            running_loss = 0.0\n",
    "\n",
    "print('Finished Training')"
   ]
  }
 ],
 "metadata": {
  "kernelspec": {
   "display_name": "Python 3",
   "language": "python",
   "name": "python3"
  },
  "language_info": {
   "codemirror_mode": {
    "name": "ipython",
    "version": 3
   },
   "file_extension": ".py",
   "mimetype": "text/x-python",
   "name": "python",
   "nbconvert_exporter": "python",
   "pygments_lexer": "ipython3",
   "version": "3.7.6"
  }
 },
 "nbformat": 4,
 "nbformat_minor": 5
}
